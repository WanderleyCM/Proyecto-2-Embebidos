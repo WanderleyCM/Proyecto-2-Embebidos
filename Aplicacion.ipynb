{
 "cells": [
  {
   "cell_type": "markdown",
   "id": "7fed6ad4",
   "metadata": {},
   "source": [
    "# Imports"
   ]
  },
  {
   "cell_type": "code",
   "execution_count": 1,
   "id": "59bb7055",
   "metadata": {},
   "outputs": [],
   "source": [
    "import tensorflow as tf\n",
    "\n",
    "#para RaspberryPi\n",
    "#import tflite_runtime.interpreter as tflite\n",
    "\n",
    "import cv2\n",
    "import numpy as np\n",
    "import csv\n",
    "import datetime"
   ]
  },
  {
   "cell_type": "markdown",
   "id": "cf0c1b6b",
   "metadata": {},
   "source": [
    "# Carga del modelo TFlite"
   ]
  },
  {
   "cell_type": "code",
   "execution_count": 2,
   "id": "ecd36adf",
   "metadata": {},
   "outputs": [],
   "source": [
    "#Path y nombre del modelo tflite\n",
    "TFLITE_MODEL = \"tflite_models/modelo_caras.tflite\"\n",
    "#En Rasp\n",
    "#TFLITE_MODEL = \"/usr/bin/modelo_caras.tflite\"\n",
    "\n",
    "tflite_interpreter = tf.lite.Interpreter(model_path=TFLITE_MODEL)\n",
    "#En Rasp\n",
    "#tflite_interpreter = tflite.Interpreter(model_path=TFLITE_MODEL)\n",
    "\n",
    "tflite_interpreter.allocate_tensors()\n",
    "input_details = tflite_interpreter.get_input_details()\n",
    "output_details = tflite_interpreter.get_output_details()"
   ]
  },
  {
   "cell_type": "markdown",
   "id": "500f8943",
   "metadata": {},
   "source": [
    "# Configuracines"
   ]
  },
  {
   "cell_type": "code",
   "execution_count": 3,
   "id": "86e23c27",
   "metadata": {},
   "outputs": [],
   "source": [
    "#permite utilizar la cámara\n",
    "captura = cv2.VideoCapture(0)\n",
    "#clasificador para buscar la posición de la cara\n",
    "faceCascade = cv2.CascadeClassifier(cv2.data.haarcascades + 'haarcascade_frontalface_default.xml')\n",
    "#En Rasp\n",
    "#faceCascade = cv2.CascadeClassifier('/usr/share/opencv4/haarcascade_frontalface_default.xml')\n",
    "\n",
    "#variable para el tiempo"
   ]
  },
  {
   "cell_type": "markdown",
   "id": "b13b9032",
   "metadata": {},
   "source": [
    "# Predicciones"
   ]
  },
  {
   "cell_type": "code",
   "execution_count": 4,
   "id": "88ba4e07",
   "metadata": {},
   "outputs": [
    {
     "name": "stdout",
     "output_type": "stream",
     "text": [
      "[[9.9417263e-01 3.7207433e-13 1.3871378e-17 1.0434601e-13 4.6312225e-16\n",
      "  5.8273813e-03]]\n",
      "[[9.0598762e-01 6.9794427e-11 4.3864406e-15 3.9004412e-12 5.9116427e-13\n",
      "  9.4012454e-02]]\n",
      "[[9.9993193e-01 6.7600455e-13 5.6084279e-15 4.2494389e-12 5.3348092e-13\n",
      "  6.8028079e-05]]\n",
      "[[6.4195085e-01 7.0184314e-10 1.2010240e-13 1.4310298e-11 3.4345304e-12\n",
      "  3.5804918e-01]]\n",
      "[[9.6228337e-01 4.0603207e-12 2.3835194e-15 2.9441942e-09 8.5098032e-14\n",
      "  3.7716616e-02]]\n"
     ]
    },
    {
     "ename": "KeyboardInterrupt",
     "evalue": "",
     "output_type": "error",
     "traceback": [
      "\u001b[1;31m---------------------------------------------------------------------------\u001b[0m",
      "\u001b[1;31mKeyboardInterrupt\u001b[0m                         Traceback (most recent call last)",
      "\u001b[1;32m~\\AppData\\Local\\Temp/ipykernel_10008/2165589890.py\u001b[0m in \u001b[0;36m<module>\u001b[1;34m\u001b[0m\n\u001b[0;32m      9\u001b[0m \u001b[1;32mwhile\u001b[0m \u001b[1;32mTrue\u001b[0m\u001b[1;33m:\u001b[0m\u001b[1;33m\u001b[0m\u001b[1;33m\u001b[0m\u001b[0m\n\u001b[0;32m     10\u001b[0m     \u001b[1;31m#se captura cada 5s\u001b[0m\u001b[1;33m\u001b[0m\u001b[1;33m\u001b[0m\u001b[0m\n\u001b[1;32m---> 11\u001b[1;33m     \u001b[0mcv2\u001b[0m\u001b[1;33m.\u001b[0m\u001b[0mwaitKey\u001b[0m\u001b[1;33m(\u001b[0m\u001b[1;36m5000\u001b[0m\u001b[1;33m)\u001b[0m\u001b[1;33m\u001b[0m\u001b[1;33m\u001b[0m\u001b[0m\n\u001b[0m\u001b[0;32m     12\u001b[0m \u001b[1;33m\u001b[0m\u001b[0m\n\u001b[0;32m     13\u001b[0m     \u001b[1;31m#lectura de la imagen\u001b[0m\u001b[1;33m\u001b[0m\u001b[1;33m\u001b[0m\u001b[0m\n",
      "\u001b[1;31mKeyboardInterrupt\u001b[0m: "
     ]
    }
   ],
   "source": [
    "#Se crea el archivo donde se lleva el registro\n",
    "file = open('predicciones.csv', 'a+', newline='')\n",
    "with file:\n",
    "    write = csv.writer(file)\n",
    "    #Header\n",
    "    write.writerows([['Prediccion','HORA']]) \n",
    "\n",
    "#Predicción ininterrumpida de las imágenes\n",
    "while True:\n",
    "    #se captura cada 5s\n",
    "    cv2.waitKey(5000)\n",
    "    \n",
    "    #lectura de la imagen\n",
    "    success,img = captura.read()\n",
    "    \n",
    "    #se requiere que imagen esté en escala de grises\n",
    "    img_grises = cv2.cvtColor(img,cv2.COLOR_BGR2GRAY)\n",
    "    \n",
    "    #posiciones y detección de rostro(s)\n",
    "    u = faceCascade.detectMultiScale(img_grises,1.1,4)\n",
    "    \n",
    "    #en caso de no ubicar una un rostro para que no se rompa el ciclo\n",
    "    try:\n",
    "        rostro = img[u[0][1]:u[0][1]+u[0][3],u[0][0]:u[0][0]+u[0][2]]\n",
    "    except:\n",
    "        break\n",
    "        \n",
    "    #se requiere cambiar el formato de la imagen para la predicción\n",
    "    new_ima = np.float32(rostro)\n",
    "    new_ima = cv2.resize(new_ima,(224,224))\n",
    "    new_ima = np.expand_dims(new_ima,axis=0)\n",
    "    new_ima = new_ima/255.0\n",
    "    \n",
    "    #predicción\n",
    "    tflite_interpreter.set_tensor(input_details[0]['index'], new_ima)\n",
    "    tflite_interpreter.invoke()\n",
    "    #en esta variable está la predicción\n",
    "    tflite_model_predictions = tflite_interpreter.get_tensor(output_details[0]['index'])\n",
    "    #print de la predicción\n",
    "    print(tflite_model_predictions)\n",
    "    #para visualizar el rostro\n",
    "    #no es necesario\n",
    "    cv2.imshow('webcam',rostro)\n",
    "    \n",
    "    max_index = np.argmax(tflite_model_predictions)\n",
    "    if max_index == 0:\n",
    "        max_emotion=\"Enojo\"\n",
    "    if max_index == 1:\n",
    "        max_emotion=\"Disgusto\"\n",
    "    if max_index == 2:\n",
    "        max_emotion=\"Miedo\"\n",
    "    if max_index == 3:\n",
    "        max_emotion=\"Alegre\"\n",
    "    if max_index == 4:\n",
    "        max_emotion=\"Triste\"\n",
    "    if max_index == 5:\n",
    "        max_emotion=\"Sorpresa\"\n",
    "        \n",
    "    fecha = datetime.datetime.now()\n",
    "    hora = datetime.datetime.strftime(fecha, '%H:%M:%S')\n",
    "    \n",
    "    file = open('predicciones.csv', 'a+', newline='')\n",
    "    with file:\n",
    "        write = csv.writer(file)\n",
    "        write.writerows([[max_emotion,hora]])    "
   ]
  },
  {
   "cell_type": "code",
   "execution_count": null,
   "id": "f92681a9",
   "metadata": {},
   "outputs": [],
   "source": []
  },
  {
   "cell_type": "code",
   "execution_count": null,
   "id": "c14a3b4c",
   "metadata": {},
   "outputs": [],
   "source": []
  }
 ],
 "metadata": {
  "kernelspec": {
   "display_name": "Python 3 (ipykernel)",
   "language": "python",
   "name": "python3"
  },
  "language_info": {
   "codemirror_mode": {
    "name": "ipython",
    "version": 3
   },
   "file_extension": ".py",
   "mimetype": "text/x-python",
   "name": "python",
   "nbconvert_exporter": "python",
   "pygments_lexer": "ipython3",
   "version": "3.9.7"
  }
 },
 "nbformat": 4,
 "nbformat_minor": 5
}
