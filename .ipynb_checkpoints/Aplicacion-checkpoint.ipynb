{
 "cells": [
  {
   "cell_type": "markdown",
   "id": "7fed6ad4",
   "metadata": {},
   "source": [
    "# Imports"
   ]
  },
  {
   "cell_type": "code",
   "execution_count": 1,
   "id": "59bb7055",
   "metadata": {},
   "outputs": [],
   "source": [
    "import tensorflow as tf\n",
    "\n",
    "#para RaspberryPi\n",
    "#import tflite_runtime.interpreter as tflite\n",
    "\n",
    "import cv2\n",
    "import numpy as np\n",
    "import csv\n",
    "import datetime\n",
    "import time"
   ]
  },
  {
   "cell_type": "markdown",
   "id": "cf0c1b6b",
   "metadata": {},
   "source": [
    "# Carga del modelo TFlite"
   ]
  },
  {
   "cell_type": "code",
   "execution_count": 2,
   "id": "ecd36adf",
   "metadata": {},
   "outputs": [],
   "source": [
    "#Path y nombre del modelo tflite\n",
    "TFLITE_MODEL = \"tflite_models/modelo_caras.tflite\"\n",
    "#En Rasp\n",
    "#TFLITE_MODEL = \"/usr/bin/modelo_caras.tflite\"\n",
    "\n",
    "tflite_interpreter = tf.lite.Interpreter(model_path=TFLITE_MODEL)\n",
    "#En Rasp\n",
    "#tflite_interpreter = tflite.Interpreter(model_path=TFLITE_MODEL)\n",
    "\n",
    "tflite_interpreter.allocate_tensors()\n",
    "input_details = tflite_interpreter.get_input_details()\n",
    "output_details = tflite_interpreter.get_output_details()"
   ]
  },
  {
   "cell_type": "markdown",
   "id": "500f8943",
   "metadata": {},
   "source": [
    "# Configuracines"
   ]
  },
  {
   "cell_type": "code",
   "execution_count": 3,
   "id": "86e23c27",
   "metadata": {},
   "outputs": [],
   "source": [
    "#permite utilizar la cámara\n",
    "captura = cv2.VideoCapture(0)\n",
    "#clasificador para buscar la posición de la cara\n",
    "faceCascade = cv2.CascadeClassifier(cv2.data.haarcascades + 'haarcascade_frontalface_default.xml')\n",
    "#En Rasp\n",
    "#faceCascade = cv2.CascadeClassifier('/usr/share/opencv4/haarcascade_frontalface_default.xml')\n",
    "\n",
    "#variable para el tiempo"
   ]
  },
  {
   "cell_type": "markdown",
   "id": "b13b9032",
   "metadata": {},
   "source": [
    "# Predicciones"
   ]
  },
  {
   "cell_type": "code",
   "execution_count": null,
   "id": "88ba4e07",
   "metadata": {},
   "outputs": [
    {
     "name": "stdout",
     "output_type": "stream",
     "text": [
      "[[9.9994957e-01 1.0596353e-12 2.0980890e-15 1.3263356e-12 2.0980984e-14\n",
      "  5.0420054e-05]]\n",
      "[[9.99880075e-01 3.27061850e-14 5.44363549e-18 2.88740819e-13\n",
      "  1.00292460e-15 1.19911805e-04]]\n",
      "[[9.9483746e-01 2.6573312e-15 5.1354972e-17 2.0176051e-10 7.1012987e-16\n",
      "  5.1624929e-03]]\n",
      "[[9.9483746e-01 2.6573312e-15 5.1354972e-17 2.0176051e-10 7.1012987e-16\n",
      "  5.1624929e-03]]\n",
      "[[9.9980301e-01 1.2707598e-13 1.1077431e-19 5.4659433e-16 4.6835671e-17\n",
      "  1.9702132e-04]]\n",
      "[[9.9980301e-01 1.2707598e-13 1.1077431e-19 5.4659433e-16 4.6835671e-17\n",
      "  1.9702132e-04]]\n",
      "[[3.0166730e-01 2.5385067e-12 3.6774871e-15 2.8526681e-11 1.1944335e-15\n",
      "  6.9833267e-01]]\n",
      "[[1.8432918e-03 1.2272452e-10 1.3055019e-13 9.1322983e-07 1.2617385e-12\n",
      "  9.9815577e-01]]\n",
      "[[8.3459890e-01 1.7388945e-13 8.0760356e-18 1.0127458e-09 1.2402084e-16\n",
      "  1.6540107e-01]]\n",
      "[[8.3770007e-01 1.1663432e-12 3.9252739e-18 2.6983998e-11 4.3795312e-16\n",
      "  1.6229989e-01]]\n",
      "[[3.5872284e-01 2.4343541e-11 5.5333232e-16 2.2824911e-09 4.4196375e-15\n",
      "  6.4127713e-01]]\n",
      "[[6.9361287e-01 3.6415188e-13 3.8569139e-17 2.9272518e-11 1.3087558e-15\n",
      "  3.0638719e-01]]\n",
      "[[5.2774966e-01 1.9611170e-10 4.5248644e-13 4.2562312e-10 4.0604759e-12\n",
      "  4.7225040e-01]]\n",
      "[[7.3653424e-01 8.4738768e-14 7.7514645e-19 6.2924628e-13 1.5625706e-16\n",
      "  2.6346576e-01]]\n",
      "[[9.9992168e-01 3.2778840e-12 9.3248527e-15 4.1052266e-13 3.5978097e-14\n",
      "  7.8279780e-05]]\n",
      "[[9.6900392e-01 4.4412859e-11 7.0144865e-14 1.5531118e-10 4.7996287e-11\n",
      "  3.0996030e-02]]\n",
      "[[9.7088593e-01 8.1352602e-14 2.6891094e-16 1.2251743e-12 5.2552481e-16\n",
      "  2.9114094e-02]]\n",
      "[[3.7906844e-02 5.8844971e-11 5.0105894e-13 6.7888236e-06 1.0473965e-12\n",
      "  9.6208638e-01]]\n",
      "[[6.04294121e-01 2.46836804e-11 1.34249881e-12 1.46919362e-07\n",
      "  1.10586394e-10 3.95705700e-01]]\n",
      "[[9.3254119e-01 1.0321111e-11 5.9719642e-12 8.6551722e-07 4.6285996e-12\n",
      "  6.7457967e-02]]\n",
      "[[9.9849737e-01 7.5911093e-13 1.3223240e-16 7.4529499e-13 2.4883416e-15\n",
      "  1.5026311e-03]]\n",
      "[[9.9969995e-01 4.1924895e-13 2.8403461e-18 4.1404360e-10 3.7867254e-16\n",
      "  3.0007027e-04]]\n",
      "[[9.2123222e-01 8.6536984e-12 2.0784200e-13 1.3020373e-09 6.7812552e-13\n",
      "  7.8767762e-02]]\n",
      "[[9.2123222e-01 8.6536984e-12 2.0784200e-13 1.3020373e-09 6.7812552e-13\n",
      "  7.8767762e-02]]\n",
      "[[2.4353701e-01 4.3594799e-13 4.2329591e-17 4.1639513e-08 3.8157695e-15\n",
      "  7.5646299e-01]]\n",
      "[[9.9999797e-01 4.7767278e-17 3.6186120e-19 3.8556376e-12 2.2176774e-16\n",
      "  2.0660134e-06]]\n",
      "[[9.9999917e-01 2.9776616e-18 6.5637473e-20 3.4114233e-16 7.6514987e-19\n",
      "  8.1950964e-07]]\n",
      "[[9.9999905e-01 3.4893909e-17 6.0268405e-20 1.4895281e-15 4.8943718e-19\n",
      "  9.6018289e-07]]\n",
      "[[9.9999201e-01 1.2098198e-15 3.6291795e-19 5.4408903e-15 5.0295174e-18\n",
      "  8.0088312e-06]]\n",
      "[[9.9995732e-01 5.6655302e-16 1.2289181e-15 8.1432881e-11 1.1000413e-15\n",
      "  4.2705789e-05]]\n",
      "[[9.9999893e-01 5.3802236e-16 1.2021014e-19 7.4234315e-15 7.2877807e-19\n",
      "  1.0754316e-06]]\n",
      "[[9.9995625e-01 1.7054505e-14 2.7716364e-15 1.1698716e-09 1.5199021e-15\n",
      "  4.3714979e-05]]\n",
      "[[9.9992621e-01 1.1864015e-13 1.4227634e-18 4.0136631e-15 2.6400466e-16\n",
      "  7.3799281e-05]]\n"
     ]
    }
   ],
   "source": [
    "#Se crea el archivo donde se lleva el registro\n",
    "file = open('predicciones.csv', 'a+', newline='')\n",
    "with file:\n",
    "    write = csv.writer(file)\n",
    "    #Header\n",
    "    write.writerows([['Prediccion','HORA']]) \n",
    "\n",
    "#Predicción ininterrumpida de las imágenes\n",
    "while True:\n",
    "    #se captura cada 5s\n",
    "    cv2.waitKey(5000)\n",
    "    \n",
    "    #lectura de la imagen\n",
    "    success,img = captura.read()\n",
    "    \n",
    "    #se requiere que imagen esté en escala de grises\n",
    "    img_grises = cv2.cvtColor(img,cv2.COLOR_BGR2GRAY)\n",
    "    \n",
    "    #posiciones y detección de rostro(s)\n",
    "    u = faceCascade.detectMultiScale(img_grises,1.1,4)\n",
    "    \n",
    "    #en caso de no ubicar una un rostro para que no se rompa el ciclo\n",
    "    try:\n",
    "        rostro = img[u[0][1]:u[0][1]+u[0][3],u[0][0]:u[0][0]+u[0][2]]\n",
    "    except:\n",
    "        time.sleep(5)\n",
    "        \n",
    "    #se requiere cambiar el formato de la imagen para la predicción\n",
    "    new_ima = np.float32(rostro)\n",
    "    new_ima = cv2.resize(new_ima,(224,224))\n",
    "    new_ima = np.expand_dims(new_ima,axis=0)\n",
    "    new_ima = new_ima/255.0\n",
    "    \n",
    "    #predicción\n",
    "    tflite_interpreter.set_tensor(input_details[0]['index'], new_ima)\n",
    "    tflite_interpreter.invoke()\n",
    "    #en esta variable está la predicción\n",
    "    tflite_model_predictions = tflite_interpreter.get_tensor(output_details[0]['index'])\n",
    "    #print de la predicción\n",
    "    print(tflite_model_predictions)\n",
    "    #para visualizar el rostro\n",
    "    #no es necesario\n",
    "    cv2.imshow('webcam',rostro)\n",
    "    \n",
    "    max_index = np.argmax(tflite_model_predictions)\n",
    "    if max_index == 0:\n",
    "        max_emotion=\"Enojo\"\n",
    "    if max_index == 1:\n",
    "        max_emotion=\"Disgusto\"\n",
    "    if max_index == 2:\n",
    "        max_emotion=\"Miedo\"\n",
    "    if max_index == 3:\n",
    "        max_emotion=\"Alegre\"\n",
    "    if max_index == 4:\n",
    "        max_emotion=\"Triste\"\n",
    "    if max_index == 5:\n",
    "        max_emotion=\"Sorpresa\"\n",
    "        \n",
    "    fecha = datetime.datetime.now()\n",
    "    hora = datetime.datetime.strftime(fecha, '%H:%M:%S')\n",
    "    \n",
    "    file = open('predicciones.csv', 'a+', newline='')\n",
    "    with file:\n",
    "        write = csv.writer(file)\n",
    "        write.writerows([[max_emotion,hora]])    "
   ]
  },
  {
   "cell_type": "code",
   "execution_count": null,
   "id": "f92681a9",
   "metadata": {},
   "outputs": [],
   "source": []
  },
  {
   "cell_type": "code",
   "execution_count": null,
   "id": "c14a3b4c",
   "metadata": {},
   "outputs": [],
   "source": []
  }
 ],
 "metadata": {
  "kernelspec": {
   "display_name": "Python 3 (ipykernel)",
   "language": "python",
   "name": "python3"
  },
  "language_info": {
   "codemirror_mode": {
    "name": "ipython",
    "version": 3
   },
   "file_extension": ".py",
   "mimetype": "text/x-python",
   "name": "python",
   "nbconvert_exporter": "python",
   "pygments_lexer": "ipython3",
   "version": "3.9.7"
  }
 },
 "nbformat": 4,
 "nbformat_minor": 5
}
